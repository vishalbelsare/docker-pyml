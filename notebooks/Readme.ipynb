{
 "cells": [
  {
   "cell_type": "markdown",
   "metadata": {},
   "source": [
    "# pyml - Docker Python Machine Learning Image\n",
    "_rueedlinger/pyml_ is a Docker image to get started very quickly with state of the art \n",
    "Python machine learning and data visualization libraries. This image is based on the _continuumio/anaconda3_ Docker \n",
    "and the the following Python libraries were installed:\n",
    "\n",
    "- jupyter \n",
    "- matplotlib \n",
    "- seaborn\n",
    "- statsmodels\n",
    "- scikit-learn \n",
    "- pandas \n",
    "- numpy \n",
    "- scipy \n",
    "- keras\n",
    "- tensorflow\n",
    "- nltk\n",
    "- textblob\n",
    "\n",
    "To try out some machine learning algorithms have a look at the _Python Machine Learning Snippets_ (https://github.com/rueedlinger/machine-learning-snippets) - an ongoing project with collection of various machine learning examples as Jupyter Notebooks in \n",
    "with scikit-learn, statsmodel, numpy and other libraries."
   ]
  }
 ],
 "metadata": {
  "kernelspec": {
   "display_name": "Python 3",
   "language": "python",
   "name": "python3"
  },
  "language_info": {
   "codemirror_mode": {
    "name": "ipython",
    "version": 3
   },
   "file_extension": ".py",
   "mimetype": "text/x-python",
   "name": "python",
   "nbconvert_exporter": "python",
   "pygments_lexer": "ipython3",
   "version": "3.6.1"
  }
 },
 "nbformat": 4,
 "nbformat_minor": 2
}
